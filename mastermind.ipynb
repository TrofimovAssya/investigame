{
 "cells": [
  {
   "cell_type": "code",
   "execution_count": 4,
   "metadata": {
    "collapsed": true
   },
   "outputs": [],
   "source": [
    "import random\n",
    "\n",
    "# generate the secret sequence\n",
    "colors = ['B','b','O','J','V','R','N']\n",
    "all_colors = colors + colors + colors\n",
    "random.shuffle(all_colors)\n",
    "answer = all_colors[0:5]"
   ]
  },
  {
   "cell_type": "code",
   "execution_count": 43,
   "metadata": {
    "collapsed": false
   },
   "outputs": [
    {
     "data": {
      "text/plain": [
       "['B']"
      ]
     },
     "execution_count": 43,
     "metadata": {},
     "output_type": "execute_result"
    }
   ],
   "source": [
    "# test the safe guess\n",
    "guess = 'BbbbJ'\n",
    "\n",
    "guess = [i for i in guess]\n",
    "tmp_answer = answer[:]\n",
    "pins = []\n",
    "\n",
    "for i, g in enumerate(guess):\n",
    "    if g in tmp_answer:\n",
    "        if g == tmp_answer[i]:\n",
    "            pins.append('N')\n",
    "        else:\n",
    "            pins.append('B')\n",
    "        tmp_answer[i] == ''\n",
    "        \n",
    "pins.sort()\n",
    "pins"
   ]
  },
  {
   "cell_type": "code",
   "execution_count": 45,
   "metadata": {
    "collapsed": false
   },
   "outputs": [
    {
     "name": "stdout",
     "output_type": "stream",
     "text": [
      "non\n",
      "R\n"
     ]
    }
   ],
   "source": [
    "# ghost\n",
    "color = 'n'\n",
    "\n",
    "if color in answer:\n",
    "    print('oui')\n",
    "else:\n",
    "    print('non')\n",
    "\n",
    "print(random.choice(colors))"
   ]
  },
  {
   "cell_type": "code",
   "execution_count": 37,
   "metadata": {
    "collapsed": false
   },
   "outputs": [
    {
     "data": {
      "text/plain": [
       "['O', 'N', 'J', 'R', 'R']"
      ]
     },
     "execution_count": 37,
     "metadata": {},
     "output_type": "execute_result"
    }
   ],
   "source": [
    "answer"
   ]
  },
  {
   "cell_type": "code",
   "execution_count": null,
   "metadata": {
    "collapsed": true
   },
   "outputs": [],
   "source": []
  }
 ],
 "metadata": {
  "kernelspec": {
   "display_name": "Python 2",
   "language": "python",
   "name": "python2"
  },
  "language_info": {
   "codemirror_mode": {
    "name": "ipython",
    "version": 2
   },
   "file_extension": ".py",
   "mimetype": "text/x-python",
   "name": "python",
   "nbconvert_exporter": "python",
   "pygments_lexer": "ipython2",
   "version": "2.7.10"
  }
 },
 "nbformat": 4,
 "nbformat_minor": 0
}
