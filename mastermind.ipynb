{
 "cells": [
  {
   "cell_type": "code",
   "execution_count": 1,
   "metadata": {
    "collapsed": true
   },
   "outputs": [],
   "source": [
    "import random\n",
    "\n",
    "# generate the secret sequence\n",
    "colors = ['B','b','O','J','V','R','N']\n",
    "all_colors = colors + colors + colors\n",
    "random.shuffle(all_colors)\n",
    "answer = all_colors[0:5]"
   ]
  },
  {
   "cell_type": "code",
   "execution_count": 2,
   "metadata": {
    "collapsed": false
   },
   "outputs": [],
   "source": [
    "# test the safe guess\n",
    "# like in mastermind, \n",
    "# if the guess contains the right color but not in the right place: B\n",
    "# if the guess contains the right color and in the right place: N\n",
    "def test_guess(guess,answer=answer):\n",
    "\n",
    "    guess = [i for i in guess]\n",
    "    tmp_answer = answer[:]\n",
    "    pins = []\n",
    "\n",
    "    for i, g in enumerate(guess):\n",
    "        if g in tmp_answer:\n",
    "            if g == tmp_answer[i]:\n",
    "                pins.append('N')\n",
    "            else:\n",
    "                pins.append('B')\n",
    "            tmp_answer[i] == ''\n",
    "\n",
    "    pins.sort()\n",
    "    return pins"
   ]
  },
  {
   "cell_type": "code",
   "execution_count": 3,
   "metadata": {
    "collapsed": false
   },
   "outputs": [],
   "source": [
    "# ghost\n",
    "def ghost_inquiry (color,colors=colors):\n",
    "\n",
    "    if color in answer:\n",
    "        print('yes')\n",
    "    else:\n",
    "        print('no')\n",
    "\n",
    "    print(\"move ghost to \" +random.choice(colors))\n",
    "    "
   ]
  },
  {
   "cell_type": "code",
   "execution_count": null,
   "metadata": {
    "collapsed": true
   },
   "outputs": [],
   "source": [
    "ghost_inquiry(\"\",colors)"
   ]
  },
  {
   "cell_type": "code",
   "execution_count": null,
   "metadata": {
    "collapsed": true
   },
   "outputs": [],
   "source": [
    "test_guess(\"\",answer)"
   ]
  }
 ],
 "metadata": {
  "kernelspec": {
   "display_name": "Python 2",
   "language": "python",
   "name": "python2"
  },
  "language_info": {
   "codemirror_mode": {
    "name": "ipython",
    "version": 2
   },
   "file_extension": ".py",
   "mimetype": "text/x-python",
   "name": "python",
   "nbconvert_exporter": "python",
   "pygments_lexer": "ipython2",
   "version": "2.7.10"
  }
 },
 "nbformat": 4,
 "nbformat_minor": 0
}
